{
 "cells": [
  {
   "cell_type": "code",
   "execution_count": 1,
   "metadata": {},
   "outputs": [],
   "source": [
    "input_file_path = \"TDK_Sözlük_Kelime_Listesi.txt\"\n",
    "output_file_path = \"5-letter-words.txt\""
   ]
  },
  {
   "cell_type": "code",
   "execution_count": 2,
   "metadata": {},
   "outputs": [
    {
     "name": "stdout",
     "output_type": "stream",
     "text": [
      "5 letter words were successfully written to 5-letter-words.txt\n",
      "Number of the words is 6190\n"
     ]
    }
   ],
   "source": [
    "five_letter_words = []\n",
    "\n",
    "with open(input_file_path,'r', encoding='utf-8') as input_file:\n",
    "    for line in input_file:\n",
    "        word = line.strip()\n",
    "        if len(word) == 5:\n",
    "            five_letter_words.append(word.lower())\n",
    "\n",
    "with open(output_file_path,'w',encoding='utf-8') as output_file:\n",
    "    for word in five_letter_words:\n",
    "        output_file.write(word + \"\\n\")\n",
    "\n",
    "print(f\"5 letter words were successfully written to {output_file_path}\")\n",
    "print(f\"Number of the words is {len(five_letter_words)}\")\n",
    "del five_letter_words"
   ]
  }
 ],
 "metadata": {
  "kernelspec": {
   "display_name": "base",
   "language": "python",
   "name": "python3"
  },
  "language_info": {
   "codemirror_mode": {
    "name": "ipython",
    "version": 3
   },
   "file_extension": ".py",
   "mimetype": "text/x-python",
   "name": "python",
   "nbconvert_exporter": "python",
   "pygments_lexer": "ipython3",
   "version": "3.11.5"
  }
 },
 "nbformat": 4,
 "nbformat_minor": 2
}
